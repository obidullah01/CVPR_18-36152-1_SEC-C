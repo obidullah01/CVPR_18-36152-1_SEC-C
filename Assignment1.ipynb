{
  "nbformat": 4,
  "nbformat_minor": 0,
  "metadata": {
    "colab": {
      "name": "Assignment1.ipynb",
      "provenance": [],
      "collapsed_sections": [],
      "include_colab_link": true
    },
    "kernelspec": {
      "name": "python3",
      "display_name": "Python 3"
    },
    "language_info": {
      "name": "python"
    }
  },
  "cells": [
    {
      "cell_type": "markdown",
      "metadata": {
        "id": "view-in-github",
        "colab_type": "text"
      },
      "source": [
        "<a href=\"https://colab.research.google.com/github/obidullah01/CVPR_18-36152-1_SEC-C/blob/main/Assignment1.ipynb\" target=\"_parent\"><img src=\"https://colab.research.google.com/assets/colab-badge.svg\" alt=\"Open In Colab\"/></a>"
      ]
    },
    {
      "cell_type": "code",
      "source": [
        "import random\n",
        "X1 = []\n",
        "X2 = []\n",
        "Y = []\n",
        "\n",
        "for i in range(50):\n",
        "  X1.append(random.randint(0, 100))\n",
        "  X2.append(random.randint(0, 100))\n",
        "  if (X1[i] > X2[i]):\n",
        "    Y.append(1)\n",
        "  else:\n",
        "    Y.append(0)\n",
        "    import matplotlib.pyplot as plt\n",
        "\n",
        "for i in range(len(Y)):\n",
        "    if Y[i] == 0:\n",
        "        plt.plot(X1[i], X2[i], \"r+\")\n",
        "    else:\n",
        "        plt.plot(X1[i], X2[i], \"g+\")"
      ],
      "metadata": {
        "id": "Y92LKPU55ChV",
        "outputId": "84f025df-bd72-4b4c-9b0c-aa0adac5ee44",
        "colab": {
          "base_uri": "https://localhost:8080/",
          "height": 268
        }
      },
      "execution_count": 2,
      "outputs": [
        {
          "output_type": "display_data",
          "data": {
            "image/png": "[encoded data removed]",
            "text/plain": [
              "<Figure size 432x288 with 1 Axes>"
            ]
          },
          "metadata": {
            "needs_background": "light"
          }
        }
      ]
    },
    {
      "cell_type": "code",
      "source": [
        "W=[random.random(), random.random()]\n",
        "b=random.random()\n",
        "lr=0.5\n",
        "\n",
        "theta=0.5\n",
        "epoch=0\n",
        "count=0\n",
        "loss=[]\n",
        "while count < len(X1):\n",
        "    total_error=0\n",
        "    for i in range(len(X1)):\n",
        "        ws=W[0]*X1[i]+W[1]*X2[i]+b\n",
        "        pred=0\n",
        "        if ws > theta:\n",
        "            pred=1\n",
        "        \n",
        "        error = Y[i]-pred\n",
        "        if error!=0:\n",
        "            count=0\n",
        "            total_error+=math.sqrt(error**2)\n",
        "            W[0]+=lr*error*X1[i]\n",
        "            W[1]+=lr*error*X2[i]\n",
        "            b+=lr*error\n",
        "        else:\n",
        "            count+=1\n",
        "    loss.append(1/len(X1)*total_error)\n",
        "    plt.figure(figsize=(15,5))\n",
        "\n",
        "    display.clear_output(wait=True)\n",
        "    plt.subplot(1,2,1)\n",
        "    for i in range(len(Y)):\n",
        "        if Y[i]==0:\n",
        "            plt.plot(X1[i],X2[i], \"ro\")\n",
        "        else:\n",
        "            plt.plot(X1[i],X2[i],\"go\")\n",
        "        plt.xlim(-5,120)\n",
        "        plt.ylim(-5,120)\n",
        "        xint=(theta-b)/W[0]\n",
        "        yint=(theta-b)/W[1]\n",
        "        slope=-yint/xint\n",
        "        x=plt.xlim()\n",
        "        y=[]\n",
        "        for i in x:\n",
        "            y.append(slope*i+yint)\n",
        "        plt.plot(x,y, 'w-',linewidth=5)\n",
        "        plt.fill_between(x=[-5,120],y1=-5,y2=120, color='g',alpha=.01)        \n",
        "    plt.title(f\"Epoch ={epoch} and Total Error={total_error}\")\n",
        "    plt.subplot(1,2,2)\n",
        "    plt.ylim([-.5,1])\n",
        "    plt.plot(loss, alpha=0.3)\n",
        "    if epoch > 10:\n",
        "        avg = savgol_filter(loss, 11, 3)\n",
        "        plt.plot(avg, 'r--', lw=3)\n",
        "    \n",
        "    plt.show()\n",
        "    print(f\"Epoch: {epoch} Loss: {loss[-1]} and y={y} and x={xint}\")\n",
        "    epoch+=1"
      ],
      "metadata": {
        "id": "PAGsQeJY5I8I",
        "colab": {
          "base_uri": "https://localhost:8080/",
          "height": 353
        },
        "outputId": "8f36395c-0ebf-476b-b57d-888f33593daf"
      },
      "execution_count": 5,
      "outputs": [
        {
          "output_type": "display_data",
          "data": {
            "image/png": "[encoded data removed]",
            "text/plain": [
              "<Figure size 1080x360 with 2 Axes>"
            ]
          },
          "metadata": {
            "needs_background": "light"
          }
        },
        {
          "output_type": "stream",
          "name": "stdout",
          "text": [
            "Epoch: 2 Loss: 0.0 and y=[-5.400090612580704, 129.72433875717888] and x=-0.004520428164313075\n"
          ]
        }
      ]
    },
    {
      "cell_type": "markdown",
      "source": [
        "Try To progress follow many resources from Internet."
      ],
      "metadata": {
        "id": "pRzT_UoILgF9"
      }
    },
    {
      "cell_type": "code",
      "source": [
        ""
      ],
      "metadata": {
        "id": "foretv4ZMlOM"
      },
      "execution_count": null,
      "outputs": []
    }
  ]
}